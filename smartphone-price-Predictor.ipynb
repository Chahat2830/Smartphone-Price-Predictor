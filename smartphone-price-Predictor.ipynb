{
 "cells": [
  {
   "cell_type": "code",
   "execution_count": 4,
   "id": "0b160961-c523-4eda-9167-05788d48d800",
   "metadata": {},
   "outputs": [],
   "source": [
    "import numpy as np \n",
    "import pandas as pd \n",
    "import matplotlib.pyplot as plt \n",
    "import seaborn as sns \n",
    "import pickle\n",
    "from sklearn.preprocessing import StandardScaler\n",
    "from sklearn.model_selection import train_test_split, RandomizedSearchCV, cross_val_score\n",
    "from sklearn.ensemble import RandomForestRegressor\n",
    "from sklearn.metrics import mean_absolute_error, mean_squared_error, r2_score\n",
    "from datetime import datetime"
   ]
  },
  {
   "cell_type": "code",
   "execution_count": 5,
   "id": "94823ee6-2725-4638-85ca-e4223f6cd833",
   "metadata": {},
   "outputs": [],
   "source": [
    "df = pd.read_csv('cleaned_all_phones.csv')"
   ]
  },
  {
   "cell_type": "code",
   "execution_count": 6,
   "id": "66c43a9a-09bd-43cf-b025-33d65c8a1649",
   "metadata": {},
   "outputs": [],
   "source": [
    "usd_to_inr = 88.72"
   ]
  },
  {
   "cell_type": "code",
   "execution_count": 7,
   "id": "dafa04d1-a7b7-4ec7-b69f-35cd4a1a23ad",
   "metadata": {},
   "outputs": [],
   "source": [
    "df['price(INR)'] = df['price(USD)'] * usd_to_inr\n",
    "df[\"price(INR)\"] = df[\"price(INR)\"].round(2)"
   ]
  },
  {
   "cell_type": "code",
   "execution_count": 11,
   "id": "71576f7a-3661-404a-82e8-580301efc97a",
   "metadata": {},
   "outputs": [],
   "source": [
    "df.drop(columns=['price(USD)', 'battery_type', 'phone_name'], inplace=True)\n",
    "df = df.drop_duplicates().copy()"
   ]
  },
  {
   "cell_type": "code",
   "execution_count": 12,
   "id": "f6749850-6d05-469e-bb2b-a7831d8cded4",
   "metadata": {},
   "outputs": [],
   "source": [
    "df['os'] = df['os'].astype(str).str.lower()"
   ]
  },
  {
   "cell_type": "code",
   "execution_count": 13,
   "id": "96053d51-cd96-454f-96ff-9bf4a1d91af4",
   "metadata": {},
   "outputs": [],
   "source": [
    "def simplify_os(value):\n",
    "    if 'android' in value:\n",
    "        return 'Android'\n",
    "    elif 'ios' in value or 'iphone' in value or 'apple' in value:\n",
    "        return 'iOS'\n",
    "    else:\n",
    "        return 'Other'"
   ]
  },
  {
   "cell_type": "code",
   "execution_count": 14,
   "id": "0e666c4f-e124-4fd9-a1a0-a6ebd2100019",
   "metadata": {},
   "outputs": [],
   "source": [
    "df['os'] = df['os'].apply(simplify_os)"
   ]
  },
  {
   "cell_type": "code",
   "execution_count": 15,
   "id": "7c31fea7-6ae0-4791-af88-3c6bda63d979",
   "metadata": {},
   "outputs": [],
   "source": [
    "df[[\"Resolution_Width\", \"Resolution_Height\"]] = df['resolution'].str.lower().str.split(\"x\", expand=True)\n",
    "df['Resolution_Width'] = pd.to_numeric(df['Resolution_Width'], errors='coerce')"
   ]
  },
  {
   "cell_type": "code",
   "execution_count": 16,
   "id": "a999326a-a9df-4eb7-8884-5835dba1afca",
   "metadata": {},
   "outputs": [],
   "source": [
    "df['Resolution_Height'] = pd.to_numeric(df['Resolution_Height'], errors='coerce')\n",
    "df['Total_px'] = df['Resolution_Width'] * df['Resolution_Height']"
   ]
  },
  {
   "cell_type": "code",
   "execution_count": 17,
   "id": "4c124382-4a68-4f26-ad73-487b471ea947",
   "metadata": {},
   "outputs": [],
   "source": [
    "df.drop(columns=['Resolution_Width', 'Resolution_Height', 'resolution'], inplace=True)"
   ]
  },
  {
   "cell_type": "code",
   "execution_count": 18,
   "id": "80a6c618-45cd-4069-95eb-fff0af12515c",
   "metadata": {},
   "outputs": [],
   "source": [
    "df[\"Pixel_Density\"] = np.sqrt(df[\"Total_px\"]) / df[\"inches\"]"
   ]
  },
  {
   "cell_type": "code",
   "execution_count": 19,
   "id": "67ec92da-5024-41db-b2bc-a9f8311e2409",
   "metadata": {},
   "outputs": [],
   "source": [
    "camera_cols = ['video_720p', 'video_1080p', 'video_4K', 'video_8K',\n",
    "               'video_30fps', 'video_60fps', 'video_120fps',\n",
    "               'video_240fps', 'video_480fps', 'video_960fps']"
   ]
  },
  {
   "cell_type": "code",
   "execution_count": 21,
   "id": "81b0b3a0-b2c5-42c0-9ba9-873671925136",
   "metadata": {},
   "outputs": [],
   "source": [
    "df[camera_cols] = df[camera_cols].astype(str).apply(lambda x: x.str.lower())\n"
   ]
  },
  {
   "cell_type": "code",
   "execution_count": 22,
   "id": "d3b57fc6-0ce0-4215-8421-0283b1e27e96",
   "metadata": {},
   "outputs": [],
   "source": [
    "for col in camera_cols:\n",
    "    df[col] = df[col].apply(lambda x: 1 if any(keyword in x for keyword in ['yes', 'true', '1', 'supported', 'available', 'ok', 'present']) else 0)"
   ]
  },
  {
   "cell_type": "code",
   "execution_count": 23,
   "id": "07b4e3f4-9d76-45a4-8c99-fc76ee280449",
   "metadata": {},
   "outputs": [],
   "source": [
    "df['announcement_date'] = pd.to_datetime(df['announcement_date'], errors='coerce')\n",
    "median_date = df['announcement_date'].dropna().median()"
   ]
  },
  {
   "cell_type": "code",
   "execution_count": 24,
   "id": "7a0113d3-edf8-449f-a224-09ab19bb327a",
   "metadata": {},
   "outputs": [
    {
     "name": "stderr",
     "output_type": "stream",
     "text": [
      "C:\\Users\\lenovo\\AppData\\Local\\Temp\\ipykernel_9660\\3486677325.py:1: FutureWarning: A value is trying to be set on a copy of a DataFrame or Series through chained assignment using an inplace method.\n",
      "The behavior will change in pandas 3.0. This inplace method will never work because the intermediate object on which we are setting values always behaves as a copy.\n",
      "\n",
      "For example, when doing 'df[col].method(value, inplace=True)', try using 'df.method({col: value}, inplace=True)' or df[col] = df[col].method(value) instead, to perform the operation inplace on the original object.\n",
      "\n",
      "\n",
      "  df['announcement_date'].fillna(median_date, inplace=True)\n"
     ]
    }
   ],
   "source": [
    "df['announcement_date'].fillna(median_date, inplace=True)\n",
    "current_date = pd.Timestamp.today()"
   ]
  },
  {
   "cell_type": "code",
   "execution_count": 25,
   "id": "6978120d-6204-4510-9601-ddadd18d6729",
   "metadata": {},
   "outputs": [],
   "source": [
    "df['phone_age'] = (current_date - df['announcement_date']).dt.days / 365.25"
   ]
  },
  {
   "cell_type": "code",
   "execution_count": 26,
   "id": "bcbb97aa-f82a-4431-b9a5-a70e027b21c6",
   "metadata": {},
   "outputs": [],
   "source": [
    "# Derived/Composite Features\n",
    "df['ppi'] = np.sqrt(df['Total_px']) / df['inches']\n",
    "df['video_capabilities'] = df[['video_720p', 'video_1080p', 'video_4K', 'video_8K']].sum(axis=1) # Max Resolution support score\n",
    "df['high_fps_support'] = df[['video_30fps', 'video_60fps', 'video_120fps', 'video_240fps', 'video_480fps', 'video_960fps']].sum(axis=1) # High FPS support count\n",
    "df['performance_score'] = df['ram(GB)'] * 0.5 + df['storage(GB)'] * 0.3 + df['battery'] * 0.2\n",
    "df['years_since_launch'] = 2025 - df['announcement_date'].dt.year"
   ]
  },
  {
   "cell_type": "code",
   "execution_count": 27,
   "id": "b1275f66-5b4c-4897-8f8d-ff23319f5b09",
   "metadata": {},
   "outputs": [],
   "source": [
    "def age_category(age):\n",
    "    if age <= 1:\n",
    "        return 'New'\n",
    "    elif age <= 3:\n",
    "        return 'Mid'\n",
    "    else:\n",
    "        return 'Old'"
   ]
  },
  {
   "cell_type": "code",
   "execution_count": 28,
   "id": "1d9559d4-6836-4f16-95dd-a7254c8b04f4",
   "metadata": {},
   "outputs": [],
   "source": [
    "df['phone_age_category'] = df['phone_age'].apply(age_category)"
   ]
  },
  {
   "cell_type": "code",
   "execution_count": 29,
   "id": "81df1b0a-0483-4880-9e97-7b621a436fc0",
   "metadata": {},
   "outputs": [],
   "source": [
    "old_features_to_drop = [\n",
    "    'inches', 'battery', 'ram(GB)', 'storage(GB)', 'Total_px', \n",
    "    'Pixel_Density', 'announcement_date', 'announcement_year', 'phone_age'\n",
    "] + camera_cols"
   ]
  },
  {
   "cell_type": "code",
   "execution_count": 30,
   "id": "622c3bb9-57f5-4582-b457-07e99c0cdc78",
   "metadata": {},
   "outputs": [],
   "source": [
    "df = df.drop(columns=[col for col in old_features_to_drop if col in df.columns])"
   ]
  },
  {
   "cell_type": "code",
   "execution_count": 31,
   "id": "d42214fc-82fc-4543-9885-ac3c518497f7",
   "metadata": {},
   "outputs": [],
   "source": [
    "cols_for_outlier_cap = ['price(INR)', 'weight(g)', 'ppi', 'video_capabilities', 'high_fps_support', 'performance_score', 'years_since_launch']"
   ]
  },
  {
   "cell_type": "code",
   "execution_count": 32,
   "id": "ff389ca2-8328-49e0-b83f-0fa4282fc058",
   "metadata": {},
   "outputs": [],
   "source": [
    "def cap_outliers_iqr(df, column):\n",
    "    Q1 = df[column].quantile(0.25)\n",
    "    Q3 = df[column].quantile(0.75)\n",
    "    IQR = Q3 - Q1\n",
    "    lower_bound = Q1 - 1.5 * IQR\n",
    "    upper_bound = Q3 + 1.5 * IQR\n",
    "    df[column] = df[column].clip(lower=lower_bound, upper=upper_bound)\n",
    "    return df"
   ]
  },
  {
   "cell_type": "code",
   "execution_count": 33,
   "id": "b466aa20-a132-4247-9bfb-8122b16620c5",
   "metadata": {},
   "outputs": [],
   "source": [
    "for col in cols_for_outlier_cap:\n",
    "    df = cap_outliers_iqr(df, col)"
   ]
  },
  {
   "cell_type": "code",
   "execution_count": 34,
   "id": "5c22b0b7-a732-4215-a726-442628b3f459",
   "metadata": {},
   "outputs": [],
   "source": [
    "top_brands = ['Samsung', 'Xiaomi', 'Apple', 'Realme', 'OnePlus']\n",
    "df['brand'] = df['brand'].apply(lambda x: x if x in top_brands else 'Others')"
   ]
  },
  {
   "cell_type": "code",
   "execution_count": 35,
   "id": "20d20fd9-92d8-4dd5-8ba7-9882aca1d65c",
   "metadata": {},
   "outputs": [],
   "source": [
    "# --- Final Model Preparation (One-Hot Encoding and Scaling) ---\n",
    "df_model = df.copy()"
   ]
  },
  {
   "cell_type": "code",
   "execution_count": 36,
   "id": "df91335c-4f21-43cc-a04c-862135c191b2",
   "metadata": {},
   "outputs": [],
   "source": [
    "# Define X and y BEFORE scaling and final encoding\n",
    "y = df_model['price(INR)']\n",
    "X = df_model.drop('price(INR)', axis=1)"
   ]
  },
  {
   "cell_type": "code",
   "execution_count": 37,
   "id": "4b89cb3d-9cf7-4822-a71e-e5182ce3a22c",
   "metadata": {},
   "outputs": [],
   "source": [
    "# One-hot encode using pandas (drop_first=True to avoid multicollinearity)\n",
    "categorical_cols = ['brand', 'os', 'phone_age_category']\n",
    "X = pd.get_dummies(X, columns=categorical_cols, drop_first=True)"
   ]
  },
  {
   "cell_type": "code",
   "execution_count": 38,
   "id": "5a51be6d-eb4b-4d4d-b9e6-03c624f277d9",
   "metadata": {},
   "outputs": [],
   "source": [
    "# Align columns to ensure the model training features match Streamlit app expectation\n",
    "# All possible dummy columns based on Streamlit dropdowns (excluding dropped first level)\n",
    "expected_dummy_cols = [\n",
    "    'brand_OnePlus', 'brand_Others', 'brand_Realme', 'brand_Samsung', 'brand_Xiaomi', \n",
    "    'os_iOS', \n",
    "    'phone_age_category_Mid', 'phone_age_category_Old'\n",
    "]"
   ]
  },
  {
   "cell_type": "code",
   "execution_count": 39,
   "id": "736969b7-79f6-4502-b1be-8a8a0e4f8d3c",
   "metadata": {},
   "outputs": [],
   "source": [
    "# Add missing columns with 0 and remove extra columns\n",
    "for col in expected_dummy_cols:\n",
    "    if col not in X.columns:\n",
    "        X[col] = 0"
   ]
  },
  {
   "cell_type": "code",
   "execution_count": 40,
   "id": "3afc5cb2-aa3d-414d-827a-b2903d0c2730",
   "metadata": {},
   "outputs": [],
   "source": [
    "X = X[['weight(g)', 'ppi', 'video_capabilities', 'high_fps_support', \n",
    "       'performance_score', 'years_since_launch'] + expected_dummy_cols].copy()"
   ]
  },
  {
   "cell_type": "code",
   "execution_count": 41,
   "id": "1c6458e0-13a2-413d-ba71-7f4bd21b2388",
   "metadata": {},
   "outputs": [],
   "source": [
    "numeric_cols = ['weight(g)', 'ppi', 'video_capabilities', 'high_fps_support', 'performance_score', 'years_since_launch']\n",
    "scaler = StandardScaler()\n",
    "X[numeric_cols] = scaler.fit_transform(X[numeric_cols])"
   ]
  },
  {
   "cell_type": "code",
   "execution_count": 42,
   "id": "dffece33-dae1-4a8e-be42-00a3ff7e133f",
   "metadata": {},
   "outputs": [],
   "source": [
    "X_train, X_test, y_train, y_test = train_test_split(\n",
    "    X, y, test_size=0.2, random_state=42\n",
    ")"
   ]
  },
  {
   "cell_type": "code",
   "execution_count": 43,
   "id": "52c130dd-dee3-4d8a-8b2d-a870bb69c84d",
   "metadata": {},
   "outputs": [],
   "source": [
    "rf = RandomForestRegressor(random_state=42)\n",
    "param_grid = {\n",
    "    'n_estimators': [200, 400],\n",
    "    'max_depth': [10, 20],\n",
    "    'min_samples_split': [5, 10],\n",
    "    'min_samples_leaf': [2, 4],\n",
    "    'max_features': ['sqrt'] # 'auto' is deprecated, use 'sqrt'\n",
    "}"
   ]
  },
  {
   "cell_type": "code",
   "execution_count": 44,
   "id": "9711e722-df59-4d3b-bc7f-20a21635e4dd",
   "metadata": {},
   "outputs": [],
   "source": [
    "rf_random = RandomizedSearchCV(\n",
    "    estimator=rf,\n",
    "    param_distributions=param_grid,\n",
    "    n_iter=10, \n",
    "    cv=5,\n",
    "    verbose=0,\n",
    "    random_state=42,\n",
    "    n_jobs=-1\n",
    ")"
   ]
  },
  {
   "cell_type": "code",
   "execution_count": 45,
   "id": "65e96a16-6f7f-4baa-a1b5-107e9cdd5a04",
   "metadata": {},
   "outputs": [
    {
     "data": {
      "text/html": [
       "<style>#sk-container-id-1 {\n",
       "  /* Definition of color scheme common for light and dark mode */\n",
       "  --sklearn-color-text: black;\n",
       "  --sklearn-color-line: gray;\n",
       "  /* Definition of color scheme for unfitted estimators */\n",
       "  --sklearn-color-unfitted-level-0: #fff5e6;\n",
       "  --sklearn-color-unfitted-level-1: #f6e4d2;\n",
       "  --sklearn-color-unfitted-level-2: #ffe0b3;\n",
       "  --sklearn-color-unfitted-level-3: chocolate;\n",
       "  /* Definition of color scheme for fitted estimators */\n",
       "  --sklearn-color-fitted-level-0: #f0f8ff;\n",
       "  --sklearn-color-fitted-level-1: #d4ebff;\n",
       "  --sklearn-color-fitted-level-2: #b3dbfd;\n",
       "  --sklearn-color-fitted-level-3: cornflowerblue;\n",
       "\n",
       "  /* Specific color for light theme */\n",
       "  --sklearn-color-text-on-default-background: var(--sg-text-color, var(--theme-code-foreground, var(--jp-content-font-color1, black)));\n",
       "  --sklearn-color-background: var(--sg-background-color, var(--theme-background, var(--jp-layout-color0, white)));\n",
       "  --sklearn-color-border-box: var(--sg-text-color, var(--theme-code-foreground, var(--jp-content-font-color1, black)));\n",
       "  --sklearn-color-icon: #696969;\n",
       "\n",
       "  @media (prefers-color-scheme: dark) {\n",
       "    /* Redefinition of color scheme for dark theme */\n",
       "    --sklearn-color-text-on-default-background: var(--sg-text-color, var(--theme-code-foreground, var(--jp-content-font-color1, white)));\n",
       "    --sklearn-color-background: var(--sg-background-color, var(--theme-background, var(--jp-layout-color0, #111)));\n",
       "    --sklearn-color-border-box: var(--sg-text-color, var(--theme-code-foreground, var(--jp-content-font-color1, white)));\n",
       "    --sklearn-color-icon: #878787;\n",
       "  }\n",
       "}\n",
       "\n",
       "#sk-container-id-1 {\n",
       "  color: var(--sklearn-color-text);\n",
       "}\n",
       "\n",
       "#sk-container-id-1 pre {\n",
       "  padding: 0;\n",
       "}\n",
       "\n",
       "#sk-container-id-1 input.sk-hidden--visually {\n",
       "  border: 0;\n",
       "  clip: rect(1px 1px 1px 1px);\n",
       "  clip: rect(1px, 1px, 1px, 1px);\n",
       "  height: 1px;\n",
       "  margin: -1px;\n",
       "  overflow: hidden;\n",
       "  padding: 0;\n",
       "  position: absolute;\n",
       "  width: 1px;\n",
       "}\n",
       "\n",
       "#sk-container-id-1 div.sk-dashed-wrapped {\n",
       "  border: 1px dashed var(--sklearn-color-line);\n",
       "  margin: 0 0.4em 0.5em 0.4em;\n",
       "  box-sizing: border-box;\n",
       "  padding-bottom: 0.4em;\n",
       "  background-color: var(--sklearn-color-background);\n",
       "}\n",
       "\n",
       "#sk-container-id-1 div.sk-container {\n",
       "  /* jupyter's `normalize.less` sets `[hidden] { display: none; }`\n",
       "     but bootstrap.min.css set `[hidden] { display: none !important; }`\n",
       "     so we also need the `!important` here to be able to override the\n",
       "     default hidden behavior on the sphinx rendered scikit-learn.org.\n",
       "     See: https://github.com/scikit-learn/scikit-learn/issues/21755 */\n",
       "  display: inline-block !important;\n",
       "  position: relative;\n",
       "}\n",
       "\n",
       "#sk-container-id-1 div.sk-text-repr-fallback {\n",
       "  display: none;\n",
       "}\n",
       "\n",
       "div.sk-parallel-item,\n",
       "div.sk-serial,\n",
       "div.sk-item {\n",
       "  /* draw centered vertical line to link estimators */\n",
       "  background-image: linear-gradient(var(--sklearn-color-text-on-default-background), var(--sklearn-color-text-on-default-background));\n",
       "  background-size: 2px 100%;\n",
       "  background-repeat: no-repeat;\n",
       "  background-position: center center;\n",
       "}\n",
       "\n",
       "/* Parallel-specific style estimator block */\n",
       "\n",
       "#sk-container-id-1 div.sk-parallel-item::after {\n",
       "  content: \"\";\n",
       "  width: 100%;\n",
       "  border-bottom: 2px solid var(--sklearn-color-text-on-default-background);\n",
       "  flex-grow: 1;\n",
       "}\n",
       "\n",
       "#sk-container-id-1 div.sk-parallel {\n",
       "  display: flex;\n",
       "  align-items: stretch;\n",
       "  justify-content: center;\n",
       "  background-color: var(--sklearn-color-background);\n",
       "  position: relative;\n",
       "}\n",
       "\n",
       "#sk-container-id-1 div.sk-parallel-item {\n",
       "  display: flex;\n",
       "  flex-direction: column;\n",
       "}\n",
       "\n",
       "#sk-container-id-1 div.sk-parallel-item:first-child::after {\n",
       "  align-self: flex-end;\n",
       "  width: 50%;\n",
       "}\n",
       "\n",
       "#sk-container-id-1 div.sk-parallel-item:last-child::after {\n",
       "  align-self: flex-start;\n",
       "  width: 50%;\n",
       "}\n",
       "\n",
       "#sk-container-id-1 div.sk-parallel-item:only-child::after {\n",
       "  width: 0;\n",
       "}\n",
       "\n",
       "/* Serial-specific style estimator block */\n",
       "\n",
       "#sk-container-id-1 div.sk-serial {\n",
       "  display: flex;\n",
       "  flex-direction: column;\n",
       "  align-items: center;\n",
       "  background-color: var(--sklearn-color-background);\n",
       "  padding-right: 1em;\n",
       "  padding-left: 1em;\n",
       "}\n",
       "\n",
       "\n",
       "/* Toggleable style: style used for estimator/Pipeline/ColumnTransformer box that is\n",
       "clickable and can be expanded/collapsed.\n",
       "- Pipeline and ColumnTransformer use this feature and define the default style\n",
       "- Estimators will overwrite some part of the style using the `sk-estimator` class\n",
       "*/\n",
       "\n",
       "/* Pipeline and ColumnTransformer style (default) */\n",
       "\n",
       "#sk-container-id-1 div.sk-toggleable {\n",
       "  /* Default theme specific background. It is overwritten whether we have a\n",
       "  specific estimator or a Pipeline/ColumnTransformer */\n",
       "  background-color: var(--sklearn-color-background);\n",
       "}\n",
       "\n",
       "/* Toggleable label */\n",
       "#sk-container-id-1 label.sk-toggleable__label {\n",
       "  cursor: pointer;\n",
       "  display: block;\n",
       "  width: 100%;\n",
       "  margin-bottom: 0;\n",
       "  padding: 0.5em;\n",
       "  box-sizing: border-box;\n",
       "  text-align: center;\n",
       "}\n",
       "\n",
       "#sk-container-id-1 label.sk-toggleable__label-arrow:before {\n",
       "  /* Arrow on the left of the label */\n",
       "  content: \"▸\";\n",
       "  float: left;\n",
       "  margin-right: 0.25em;\n",
       "  color: var(--sklearn-color-icon);\n",
       "}\n",
       "\n",
       "#sk-container-id-1 label.sk-toggleable__label-arrow:hover:before {\n",
       "  color: var(--sklearn-color-text);\n",
       "}\n",
       "\n",
       "/* Toggleable content - dropdown */\n",
       "\n",
       "#sk-container-id-1 div.sk-toggleable__content {\n",
       "  max-height: 0;\n",
       "  max-width: 0;\n",
       "  overflow: hidden;\n",
       "  text-align: left;\n",
       "  /* unfitted */\n",
       "  background-color: var(--sklearn-color-unfitted-level-0);\n",
       "}\n",
       "\n",
       "#sk-container-id-1 div.sk-toggleable__content.fitted {\n",
       "  /* fitted */\n",
       "  background-color: var(--sklearn-color-fitted-level-0);\n",
       "}\n",
       "\n",
       "#sk-container-id-1 div.sk-toggleable__content pre {\n",
       "  margin: 0.2em;\n",
       "  border-radius: 0.25em;\n",
       "  color: var(--sklearn-color-text);\n",
       "  /* unfitted */\n",
       "  background-color: var(--sklearn-color-unfitted-level-0);\n",
       "}\n",
       "\n",
       "#sk-container-id-1 div.sk-toggleable__content.fitted pre {\n",
       "  /* unfitted */\n",
       "  background-color: var(--sklearn-color-fitted-level-0);\n",
       "}\n",
       "\n",
       "#sk-container-id-1 input.sk-toggleable__control:checked~div.sk-toggleable__content {\n",
       "  /* Expand drop-down */\n",
       "  max-height: 200px;\n",
       "  max-width: 100%;\n",
       "  overflow: auto;\n",
       "}\n",
       "\n",
       "#sk-container-id-1 input.sk-toggleable__control:checked~label.sk-toggleable__label-arrow:before {\n",
       "  content: \"▾\";\n",
       "}\n",
       "\n",
       "/* Pipeline/ColumnTransformer-specific style */\n",
       "\n",
       "#sk-container-id-1 div.sk-label input.sk-toggleable__control:checked~label.sk-toggleable__label {\n",
       "  color: var(--sklearn-color-text);\n",
       "  background-color: var(--sklearn-color-unfitted-level-2);\n",
       "}\n",
       "\n",
       "#sk-container-id-1 div.sk-label.fitted input.sk-toggleable__control:checked~label.sk-toggleable__label {\n",
       "  background-color: var(--sklearn-color-fitted-level-2);\n",
       "}\n",
       "\n",
       "/* Estimator-specific style */\n",
       "\n",
       "/* Colorize estimator box */\n",
       "#sk-container-id-1 div.sk-estimator input.sk-toggleable__control:checked~label.sk-toggleable__label {\n",
       "  /* unfitted */\n",
       "  background-color: var(--sklearn-color-unfitted-level-2);\n",
       "}\n",
       "\n",
       "#sk-container-id-1 div.sk-estimator.fitted input.sk-toggleable__control:checked~label.sk-toggleable__label {\n",
       "  /* fitted */\n",
       "  background-color: var(--sklearn-color-fitted-level-2);\n",
       "}\n",
       "\n",
       "#sk-container-id-1 div.sk-label label.sk-toggleable__label,\n",
       "#sk-container-id-1 div.sk-label label {\n",
       "  /* The background is the default theme color */\n",
       "  color: var(--sklearn-color-text-on-default-background);\n",
       "}\n",
       "\n",
       "/* On hover, darken the color of the background */\n",
       "#sk-container-id-1 div.sk-label:hover label.sk-toggleable__label {\n",
       "  color: var(--sklearn-color-text);\n",
       "  background-color: var(--sklearn-color-unfitted-level-2);\n",
       "}\n",
       "\n",
       "/* Label box, darken color on hover, fitted */\n",
       "#sk-container-id-1 div.sk-label.fitted:hover label.sk-toggleable__label.fitted {\n",
       "  color: var(--sklearn-color-text);\n",
       "  background-color: var(--sklearn-color-fitted-level-2);\n",
       "}\n",
       "\n",
       "/* Estimator label */\n",
       "\n",
       "#sk-container-id-1 div.sk-label label {\n",
       "  font-family: monospace;\n",
       "  font-weight: bold;\n",
       "  display: inline-block;\n",
       "  line-height: 1.2em;\n",
       "}\n",
       "\n",
       "#sk-container-id-1 div.sk-label-container {\n",
       "  text-align: center;\n",
       "}\n",
       "\n",
       "/* Estimator-specific */\n",
       "#sk-container-id-1 div.sk-estimator {\n",
       "  font-family: monospace;\n",
       "  border: 1px dotted var(--sklearn-color-border-box);\n",
       "  border-radius: 0.25em;\n",
       "  box-sizing: border-box;\n",
       "  margin-bottom: 0.5em;\n",
       "  /* unfitted */\n",
       "  background-color: var(--sklearn-color-unfitted-level-0);\n",
       "}\n",
       "\n",
       "#sk-container-id-1 div.sk-estimator.fitted {\n",
       "  /* fitted */\n",
       "  background-color: var(--sklearn-color-fitted-level-0);\n",
       "}\n",
       "\n",
       "/* on hover */\n",
       "#sk-container-id-1 div.sk-estimator:hover {\n",
       "  /* unfitted */\n",
       "  background-color: var(--sklearn-color-unfitted-level-2);\n",
       "}\n",
       "\n",
       "#sk-container-id-1 div.sk-estimator.fitted:hover {\n",
       "  /* fitted */\n",
       "  background-color: var(--sklearn-color-fitted-level-2);\n",
       "}\n",
       "\n",
       "/* Specification for estimator info (e.g. \"i\" and \"?\") */\n",
       "\n",
       "/* Common style for \"i\" and \"?\" */\n",
       "\n",
       ".sk-estimator-doc-link,\n",
       "a:link.sk-estimator-doc-link,\n",
       "a:visited.sk-estimator-doc-link {\n",
       "  float: right;\n",
       "  font-size: smaller;\n",
       "  line-height: 1em;\n",
       "  font-family: monospace;\n",
       "  background-color: var(--sklearn-color-background);\n",
       "  border-radius: 1em;\n",
       "  height: 1em;\n",
       "  width: 1em;\n",
       "  text-decoration: none !important;\n",
       "  margin-left: 1ex;\n",
       "  /* unfitted */\n",
       "  border: var(--sklearn-color-unfitted-level-1) 1pt solid;\n",
       "  color: var(--sklearn-color-unfitted-level-1);\n",
       "}\n",
       "\n",
       ".sk-estimator-doc-link.fitted,\n",
       "a:link.sk-estimator-doc-link.fitted,\n",
       "a:visited.sk-estimator-doc-link.fitted {\n",
       "  /* fitted */\n",
       "  border: var(--sklearn-color-fitted-level-1) 1pt solid;\n",
       "  color: var(--sklearn-color-fitted-level-1);\n",
       "}\n",
       "\n",
       "/* On hover */\n",
       "div.sk-estimator:hover .sk-estimator-doc-link:hover,\n",
       ".sk-estimator-doc-link:hover,\n",
       "div.sk-label-container:hover .sk-estimator-doc-link:hover,\n",
       ".sk-estimator-doc-link:hover {\n",
       "  /* unfitted */\n",
       "  background-color: var(--sklearn-color-unfitted-level-3);\n",
       "  color: var(--sklearn-color-background);\n",
       "  text-decoration: none;\n",
       "}\n",
       "\n",
       "div.sk-estimator.fitted:hover .sk-estimator-doc-link.fitted:hover,\n",
       ".sk-estimator-doc-link.fitted:hover,\n",
       "div.sk-label-container:hover .sk-estimator-doc-link.fitted:hover,\n",
       ".sk-estimator-doc-link.fitted:hover {\n",
       "  /* fitted */\n",
       "  background-color: var(--sklearn-color-fitted-level-3);\n",
       "  color: var(--sklearn-color-background);\n",
       "  text-decoration: none;\n",
       "}\n",
       "\n",
       "/* Span, style for the box shown on hovering the info icon */\n",
       ".sk-estimator-doc-link span {\n",
       "  display: none;\n",
       "  z-index: 9999;\n",
       "  position: relative;\n",
       "  font-weight: normal;\n",
       "  right: .2ex;\n",
       "  padding: .5ex;\n",
       "  margin: .5ex;\n",
       "  width: min-content;\n",
       "  min-width: 20ex;\n",
       "  max-width: 50ex;\n",
       "  color: var(--sklearn-color-text);\n",
       "  box-shadow: 2pt 2pt 4pt #999;\n",
       "  /* unfitted */\n",
       "  background: var(--sklearn-color-unfitted-level-0);\n",
       "  border: .5pt solid var(--sklearn-color-unfitted-level-3);\n",
       "}\n",
       "\n",
       ".sk-estimator-doc-link.fitted span {\n",
       "  /* fitted */\n",
       "  background: var(--sklearn-color-fitted-level-0);\n",
       "  border: var(--sklearn-color-fitted-level-3);\n",
       "}\n",
       "\n",
       ".sk-estimator-doc-link:hover span {\n",
       "  display: block;\n",
       "}\n",
       "\n",
       "/* \"?\"-specific style due to the `<a>` HTML tag */\n",
       "\n",
       "#sk-container-id-1 a.estimator_doc_link {\n",
       "  float: right;\n",
       "  font-size: 1rem;\n",
       "  line-height: 1em;\n",
       "  font-family: monospace;\n",
       "  background-color: var(--sklearn-color-background);\n",
       "  border-radius: 1rem;\n",
       "  height: 1rem;\n",
       "  width: 1rem;\n",
       "  text-decoration: none;\n",
       "  /* unfitted */\n",
       "  color: var(--sklearn-color-unfitted-level-1);\n",
       "  border: var(--sklearn-color-unfitted-level-1) 1pt solid;\n",
       "}\n",
       "\n",
       "#sk-container-id-1 a.estimator_doc_link.fitted {\n",
       "  /* fitted */\n",
       "  border: var(--sklearn-color-fitted-level-1) 1pt solid;\n",
       "  color: var(--sklearn-color-fitted-level-1);\n",
       "}\n",
       "\n",
       "/* On hover */\n",
       "#sk-container-id-1 a.estimator_doc_link:hover {\n",
       "  /* unfitted */\n",
       "  background-color: var(--sklearn-color-unfitted-level-3);\n",
       "  color: var(--sklearn-color-background);\n",
       "  text-decoration: none;\n",
       "}\n",
       "\n",
       "#sk-container-id-1 a.estimator_doc_link.fitted:hover {\n",
       "  /* fitted */\n",
       "  background-color: var(--sklearn-color-fitted-level-3);\n",
       "}\n",
       "</style><div id=\"sk-container-id-1\" class=\"sk-top-container\"><div class=\"sk-text-repr-fallback\"><pre>RandomizedSearchCV(cv=5, estimator=RandomForestRegressor(random_state=42),\n",
       "                   n_jobs=-1,\n",
       "                   param_distributions={&#x27;max_depth&#x27;: [10, 20],\n",
       "                                        &#x27;max_features&#x27;: [&#x27;sqrt&#x27;],\n",
       "                                        &#x27;min_samples_leaf&#x27;: [2, 4],\n",
       "                                        &#x27;min_samples_split&#x27;: [5, 10],\n",
       "                                        &#x27;n_estimators&#x27;: [200, 400]},\n",
       "                   random_state=42)</pre><b>In a Jupyter environment, please rerun this cell to show the HTML representation or trust the notebook. <br />On GitHub, the HTML representation is unable to render, please try loading this page with nbviewer.org.</b></div><div class=\"sk-container\" hidden><div class=\"sk-item sk-dashed-wrapped\"><div class=\"sk-label-container\"><div class=\"sk-label fitted sk-toggleable\"><input class=\"sk-toggleable__control sk-hidden--visually\" id=\"sk-estimator-id-1\" type=\"checkbox\" ><label for=\"sk-estimator-id-1\" class=\"sk-toggleable__label fitted sk-toggleable__label-arrow fitted\">&nbsp;&nbsp;RandomizedSearchCV<a class=\"sk-estimator-doc-link fitted\" rel=\"noreferrer\" target=\"_blank\" href=\"https://scikit-learn.org/1.5/modules/generated/sklearn.model_selection.RandomizedSearchCV.html\">?<span>Documentation for RandomizedSearchCV</span></a><span class=\"sk-estimator-doc-link fitted\">i<span>Fitted</span></span></label><div class=\"sk-toggleable__content fitted\"><pre>RandomizedSearchCV(cv=5, estimator=RandomForestRegressor(random_state=42),\n",
       "                   n_jobs=-1,\n",
       "                   param_distributions={&#x27;max_depth&#x27;: [10, 20],\n",
       "                                        &#x27;max_features&#x27;: [&#x27;sqrt&#x27;],\n",
       "                                        &#x27;min_samples_leaf&#x27;: [2, 4],\n",
       "                                        &#x27;min_samples_split&#x27;: [5, 10],\n",
       "                                        &#x27;n_estimators&#x27;: [200, 400]},\n",
       "                   random_state=42)</pre></div> </div></div><div class=\"sk-parallel\"><div class=\"sk-parallel-item\"><div class=\"sk-item\"><div class=\"sk-label-container\"><div class=\"sk-label fitted sk-toggleable\"><input class=\"sk-toggleable__control sk-hidden--visually\" id=\"sk-estimator-id-2\" type=\"checkbox\" ><label for=\"sk-estimator-id-2\" class=\"sk-toggleable__label fitted sk-toggleable__label-arrow fitted\">best_estimator_: RandomForestRegressor</label><div class=\"sk-toggleable__content fitted\"><pre>RandomForestRegressor(max_depth=10, max_features=&#x27;sqrt&#x27;, min_samples_leaf=2,\n",
       "                      min_samples_split=5, n_estimators=400, random_state=42)</pre></div> </div></div><div class=\"sk-serial\"><div class=\"sk-item\"><div class=\"sk-estimator fitted sk-toggleable\"><input class=\"sk-toggleable__control sk-hidden--visually\" id=\"sk-estimator-id-3\" type=\"checkbox\" ><label for=\"sk-estimator-id-3\" class=\"sk-toggleable__label fitted sk-toggleable__label-arrow fitted\">&nbsp;RandomForestRegressor<a class=\"sk-estimator-doc-link fitted\" rel=\"noreferrer\" target=\"_blank\" href=\"https://scikit-learn.org/1.5/modules/generated/sklearn.ensemble.RandomForestRegressor.html\">?<span>Documentation for RandomForestRegressor</span></a></label><div class=\"sk-toggleable__content fitted\"><pre>RandomForestRegressor(max_depth=10, max_features=&#x27;sqrt&#x27;, min_samples_leaf=2,\n",
       "                      min_samples_split=5, n_estimators=400, random_state=42)</pre></div> </div></div></div></div></div></div></div></div></div>"
      ],
      "text/plain": [
       "RandomizedSearchCV(cv=5, estimator=RandomForestRegressor(random_state=42),\n",
       "                   n_jobs=-1,\n",
       "                   param_distributions={'max_depth': [10, 20],\n",
       "                                        'max_features': ['sqrt'],\n",
       "                                        'min_samples_leaf': [2, 4],\n",
       "                                        'min_samples_split': [5, 10],\n",
       "                                        'n_estimators': [200, 400]},\n",
       "                   random_state=42)"
      ]
     },
     "execution_count": 45,
     "metadata": {},
     "output_type": "execute_result"
    }
   ],
   "source": [
    "rf_random.fit(X_train, y_train)"
   ]
  },
  {
   "cell_type": "code",
   "execution_count": 46,
   "id": "93fef455-55d1-4a03-81b2-71fa8289be6c",
   "metadata": {},
   "outputs": [],
   "source": [
    "# Use the best estimator\n",
    "best_rf_model = rf_random.best_estimator_"
   ]
  },
  {
   "cell_type": "code",
   "execution_count": 47,
   "id": "7ab392be-8ef3-4186-a162-434445489123",
   "metadata": {},
   "outputs": [],
   "source": [
    "# --- Final Evaluation ---\n",
    "y_pred = best_rf_model.predict(X_test)\n",
    "mae = mean_absolute_error(y_test, y_pred)\n",
    "rmse = np.sqrt(mean_squared_error(y_test, y_pred))\n",
    "r2 = r2_score(y_test, y_pred)"
   ]
  },
  {
   "cell_type": "code",
   "execution_count": 48,
   "id": "263a8b40-d92e-434e-8f6b-972cf4b21cd9",
   "metadata": {},
   "outputs": [
    {
     "name": "stdout",
     "output_type": "stream",
     "text": [
      "✅ Final Model Evaluation:\n",
      "MAE: 10003.57\n",
      "RMSE: 13069.39\n",
      "R² Score: 0.3644\n"
     ]
    }
   ],
   "source": [
    "print(\"✅ Final Model Evaluation:\")\n",
    "print(f\"MAE: {mae:.2f}\")\n",
    "print(f\"RMSE: {rmse:.2f}\")\n",
    "print(f\"R² Score: {r2:.4f}\")"
   ]
  },
  {
   "cell_type": "code",
   "execution_count": 50,
   "id": "ea147522-e203-43e6-8b62-f26ce4bdd4f3",
   "metadata": {},
   "outputs": [],
   "source": [
    "# --- Save Model and Scaler ---\n",
    "# Save the BEST trained Random Forest model\n",
    "with open(\"rf_model.pkl\", \"wb\") as file:\n",
    "    pickle.dump(best_rf_model, file)"
   ]
  },
  {
   "cell_type": "code",
   "execution_count": 49,
   "id": "244a5f38-8992-4ba5-bcf1-50946f2a30ed",
   "metadata": {},
   "outputs": [],
   "source": [
    "# Save the scaler used on the final feature set\n",
    "with open(\"scaler.pkl\", \"wb\") as file:\n",
    "    pickle.dump(scaler, file)"
   ]
  },
  {
   "cell_type": "code",
   "execution_count": 51,
   "id": "a5d27cf9-ef87-4287-970b-8f4be51c960f",
   "metadata": {},
   "outputs": [
    {
     "name": "stdout",
     "output_type": "stream",
     "text": [
      "✅ Model and Scaler saved successfully\n"
     ]
    }
   ],
   "source": [
    "print(\"✅ Model and Scaler saved successfully\")"
   ]
  }
 ],
 "metadata": {
  "kernelspec": {
   "display_name": "Python 3 (ipykernel)",
   "language": "python",
   "name": "python3"
  },
  "language_info": {
   "codemirror_mode": {
    "name": "ipython",
    "version": 3
   },
   "file_extension": ".py",
   "mimetype": "text/x-python",
   "name": "python",
   "nbconvert_exporter": "python",
   "pygments_lexer": "ipython3",
   "version": "3.12.7"
  }
 },
 "nbformat": 4,
 "nbformat_minor": 5
}
